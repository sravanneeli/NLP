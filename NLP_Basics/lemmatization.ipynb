{
 "cells": [
  {
   "cell_type": "code",
   "execution_count": 1,
   "metadata": {},
   "outputs": [],
   "source": [
    "import spacy"
   ]
  },
  {
   "cell_type": "code",
   "execution_count": 2,
   "metadata": {},
   "outputs": [],
   "source": [
    "nlp = spacy.load('en_core_web_sm')"
   ]
  },
  {
   "cell_type": "code",
   "execution_count": 3,
   "metadata": {},
   "outputs": [],
   "source": [
    "doc1 = nlp(u'I am a runner running in a race because I love to run race since ran today.')"
   ]
  },
  {
   "cell_type": "code",
   "execution_count": 17,
   "metadata": {},
   "outputs": [],
   "source": [
    "def show_lemmas(text):\n",
    "    for token in text:\n",
    "        print(f\"{token.text:{10}} {token.pos_:{10}} {token.lemma:<{25}} {token.lemma_}\")"
   ]
  },
  {
   "cell_type": "code",
   "execution_count": 18,
   "metadata": {},
   "outputs": [
    {
     "name": "stdout",
     "output_type": "stream",
     "text": [
      "I          PRON       561228191312463089        -PRON-\n",
      "am         AUX        10382539506755952630      be\n",
      "a          DET        11901859001352538922      a\n",
      "runner     NOUN       12640964157389618806      runner\n",
      "running    VERB       12767647472892411841      run\n",
      "in         ADP        3002984154512732771       in\n",
      "a          DET        11901859001352538922      a\n",
      "race       NOUN       8048469955494714898       race\n",
      "because    SCONJ      16950148841647037698      because\n",
      "I          PRON       561228191312463089        -PRON-\n",
      "love       VERB       3702023516439754181       love\n",
      "to         PART       3791531372978436496       to\n",
      "run        VERB       12767647472892411841      run\n",
      "race       NOUN       8048469955494714898       race\n",
      "since      SCONJ      10066841407251338481      since\n",
      "ran        PROPN      6840958122370687302       ran\n",
      "today      NOUN       11042482332948150395      today\n",
      ".          PUNCT      12646065887601541794      .\n"
     ]
    }
   ],
   "source": [
    "show_lemmas(doc1)"
   ]
  },
  {
   "cell_type": "code",
   "execution_count": 15,
   "metadata": {},
   "outputs": [],
   "source": [
    "doc2 = nlp(u\"I saw ten mice today!\")"
   ]
  },
  {
   "cell_type": "code",
   "execution_count": 19,
   "metadata": {},
   "outputs": [
    {
     "name": "stdout",
     "output_type": "stream",
     "text": [
      "I          PRON       561228191312463089        -PRON-\n",
      "saw        VERB       11925638236994514241      see\n",
      "ten        NUM        7970704286052693043       ten\n",
      "mice       NOUN       1384165645700560590       mouse\n",
      "today      NOUN       11042482332948150395      today\n",
      "!          PUNCT      17494803046312582752      !\n"
     ]
    }
   ],
   "source": [
    "show_lemmas(doc2)"
   ]
  }
 ],
 "metadata": {
  "kernelspec": {
   "display_name": "Python 3",
   "language": "python",
   "name": "python3"
  },
  "language_info": {
   "codemirror_mode": {
    "name": "ipython",
    "version": 3
   },
   "file_extension": ".py",
   "mimetype": "text/x-python",
   "name": "python",
   "nbconvert_exporter": "python",
   "pygments_lexer": "ipython3",
   "version": "3.8.3"
  }
 },
 "nbformat": 4,
 "nbformat_minor": 4
}
