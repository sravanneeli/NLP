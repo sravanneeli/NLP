{
 "cells": [
  {
   "cell_type": "code",
   "execution_count": 1,
   "metadata": {},
   "outputs": [],
   "source": [
    "import spacy"
   ]
  },
  {
   "cell_type": "code",
   "execution_count": 2,
   "metadata": {},
   "outputs": [],
   "source": [
    "nlp = spacy.load('en_core_web_sm')"
   ]
  },
  {
   "cell_type": "code",
   "execution_count": 3,
   "metadata": {},
   "outputs": [
    {
     "name": "stdout",
     "output_type": "stream",
     "text": [
      "{'our', 'more', 'if', '‘ve', 'via', 'when', '’ve', 'few', 'should', 'nine', 'him', 'not', 'must', 'then', \"'ve\", 'can', 'mostly', 'down', 'yours', 'up', 'yourselves', '‘s', 'alone', 'myself', 'anyone', 'see', 'towards', 'serious', 'because', 'fifty', 'seeming', 'whereupon', 'that', 'in', 'top', 'moreover', 'ten', 'since', 'put', 'indeed', 'too', 'he', 'something', 'these', 'really', 'before', 'whom', 'had', 'another', 'show', 'whither', 'back', '‘m', 'becoming', 'others', 'various', 'to', 'two', 'none', 'you', 'here', 'fifteen', 'being', 'during', 'quite', 'many', 'now', 'made', 'them', 'with', 'four', 'very', 'ever', 'below', 'much', 'has', 'hereafter', 'thence', 'every', 'while', 'one', 'most', 'some', 'nor', 'else', 'themselves', 'between', 'nobody', 'after', 'how', 'all', 'unless', 'we', 'no', 'amongst', 'still', 'besides', 'although', 'does', '’d', 'out', 'whence', 'whole', 'once', 'beside', 'either', 'off', 'perhaps', 'only', 'less', 'from', 'other', 'everywhere', 'least', 'it', 'well', 'though', \"'m\", 'therein', 'move', 'became', 'nothing', 'your', 'they', 'therefore', 'of', 'so', 'eight', 'than', 'she', 'everyone', 'behind', 'on', 'n‘t', 'could', 'same', 'become', 'across', 'are', 'everything', 'anyway', 'third', 'side', 'becomes', 'thereafter', 'hers', 'almost', \"'s\", 'what', 'empty', 'front', 'twenty', 'beyond', 'full', \"'re\", 'often', 'the', 'together', 'latter', 'formerly', 'were', 'wherever', 'as', 'by', 'until', 'whereafter', 'afterwards', 'where', 'bottom', 'regarding', 'ourselves', 'per', 'why', 'first', 'hereupon', 'say', 'whatever', 'twelve', \"'ll\", 'is', 'cannot', 'go', 'onto', 'anything', 'keep', 'beforehand', 'his', 'thru', 'those', 'except', 'who', 'thus', 'sometime', 'will', 'take', 'whoever', 'my', 'at', 'would', 'without', 'us', 'neither', 'last', 'did', 'please', 'above', 'their', 'this', 'somehow', 'herein', 'however', 'against', 'six', 'seem', 'such', 'its', 'eleven', 'an', 'doing', 'further', 'ours', 'toward', 'might', 'itself', 'over', 'whereby', '’ll', 'mine', 'used', 'again', 'wherein', 'sixty', 'elsewhere', 'upon', 'i', \"n't\", 'himself', 'namely', 'enough', 'around', 'do', \"'d\", 'hereby', 'otherwise', 'there', 'was', 'yourself', 'been', 'into', 'using', 'yet', 'through', 'am', 'latterly', 'under', 'whose', '‘d', 'whereas', 'nowhere', 'forty', 'former', 'call', 'give', 'make', 'herself', 'next', 'throughout', 'seemed', 'hence', 'be', 'which', 'just', '’re', 'nevertheless', 'anywhere', 'amount', 'get', 'for', 'five', 'thereby', 'rather', 're', 'somewhere', 'along', 'anyhow', 'each', 'part', 'done', '’m', 'may', 'me', 'several', 'but', 'about', '‘ll', 'both', 'hundred', 'sometimes', 'whenever', 'never', 'whether', 'or', 'also', 'someone', 'her', 'and', 'ca', 'noone', 'already', 'seems', 'thereupon', 'three', 'meanwhile', 'any', '‘re', '’s', 'among', 'n’t', 'name', 'a', 'own', 'within', 'always', 'due', 'even', 'have'}\n"
     ]
    }
   ],
   "source": [
    "print(nlp.Defaults.stop_words)"
   ]
  },
  {
   "cell_type": "code",
   "execution_count": 4,
   "metadata": {},
   "outputs": [
    {
     "data": {
      "text/plain": [
       "326"
      ]
     },
     "execution_count": 4,
     "metadata": {},
     "output_type": "execute_result"
    }
   ],
   "source": [
    "len(nlp.Defaults.stop_words)"
   ]
  },
  {
   "cell_type": "code",
   "execution_count": 5,
   "metadata": {},
   "outputs": [
    {
     "data": {
      "text/plain": [
       "True"
      ]
     },
     "execution_count": 5,
     "metadata": {},
     "output_type": "execute_result"
    }
   ],
   "source": [
    "nlp.vocab['is'].is_stop"
   ]
  },
  {
   "cell_type": "code",
   "execution_count": 6,
   "metadata": {},
   "outputs": [
    {
     "data": {
      "text/plain": [
       "False"
      ]
     },
     "execution_count": 6,
     "metadata": {},
     "output_type": "execute_result"
    }
   ],
   "source": [
    "nlp.vocab['mystery'].is_stop"
   ]
  }
 ],
 "metadata": {
  "kernelspec": {
   "display_name": "Python 3",
   "language": "python",
   "name": "python3"
  },
  "language_info": {
   "codemirror_mode": {
    "name": "ipython",
    "version": 3
   },
   "file_extension": ".py",
   "mimetype": "text/x-python",
   "name": "python",
   "nbconvert_exporter": "python",
   "pygments_lexer": "ipython3",
   "version": "3.8.3"
  }
 },
 "nbformat": 4,
 "nbformat_minor": 4
}
