{
 "cells": [
  {
   "cell_type": "code",
   "execution_count": 1,
   "metadata": {},
   "outputs": [],
   "source": [
    "import numpy as np"
   ]
  },
  {
   "cell_type": "code",
   "execution_count": 2,
   "metadata": {},
   "outputs": [],
   "source": [
    "alist = [1, 2, 3, 4, 5]\n",
    "narray = np.array([1, 2, 3, 4])"
   ]
  },
  {
   "cell_type": "code",
   "execution_count": 3,
   "metadata": {},
   "outputs": [
    {
     "name": "stdout",
     "output_type": "stream",
     "text": [
      "[1, 2, 3, 4, 5]\n",
      "[1 2 3 4]\n",
      "<class 'list'>\n",
      "<class 'numpy.ndarray'>\n"
     ]
    }
   ],
   "source": [
    "print(alist)\n",
    "print(narray)\n",
    "\n",
    "print(type(alist))\n",
    "print(type(narray))"
   ]
  },
  {
   "cell_type": "code",
   "execution_count": 4,
   "metadata": {},
   "outputs": [
    {
     "name": "stdout",
     "output_type": "stream",
     "text": [
      "[2 4 6 8]\n",
      "[1, 2, 3, 4, 5, 1, 2, 3, 4, 5]\n"
     ]
    }
   ],
   "source": [
    "print(narray + narray)\n",
    "print(alist + alist)"
   ]
  },
  {
   "cell_type": "code",
   "execution_count": 6,
   "metadata": {},
   "outputs": [
    {
     "name": "stdout",
     "output_type": "stream",
     "text": [
      "[ 3  6  9 12]\n",
      "[1, 2, 3, 4, 5, 1, 2, 3, 4, 5, 1, 2, 3, 4, 5]\n"
     ]
    }
   ],
   "source": [
    "print(narray * 3)\n",
    "print(alist * 3)"
   ]
  },
  {
   "cell_type": "code",
   "execution_count": 7,
   "metadata": {},
   "outputs": [
    {
     "name": "stdout",
     "output_type": "stream",
     "text": [
      "[[1 2 3 4]\n",
      " [1 2 3 4]\n",
      " [1 2 3 4]]\n",
      "[[1 2 3 4 5]\n",
      " [1 2 3 4 5]\n",
      " [1 2 3 4 5]]\n",
      "[[1 2 3 4]\n",
      " [1 1 1 1]\n",
      " [1 2 3 4]]\n"
     ]
    }
   ],
   "source": [
    "npmatrix1 = np.array([narray, narray, narray]) # Matrix initialized with NumPy arrays\n",
    "npmatrix2 = np.array([alist, alist, alist]) # Matrix initialized with lists\n",
    "npmatrix3 = np.array([narray, [1, 1, 1, 1], narray]) # Matrix initialized with both types\n",
    "\n",
    "print(npmatrix1)\n",
    "print(npmatrix2)\n",
    "print(npmatrix3)"
   ]
  },
  {
   "cell_type": "code",
   "execution_count": 10,
   "metadata": {},
   "outputs": [
    {
     "name": "stdout",
     "output_type": "stream",
     "text": [
      "[[1 2]\n",
      " [3 4]]\n",
      "[[2 4]\n",
      " [6 8]]\n"
     ]
    }
   ],
   "source": [
    "okmatrix = np.array([[1, 2], [3, 4]]) # Define a 2x2 matrix\n",
    "print(okmatrix) # Print okmatrix\n",
    "print(okmatrix * 2) # Print a scaled version of okmatrix"
   ]
  },
  {
   "cell_type": "code",
   "execution_count": 8,
   "metadata": {},
   "outputs": [
    {
     "name": "stdout",
     "output_type": "stream",
     "text": [
      "[list([1, 2]) list([3, 4]) list([5, 6, 7])]\n",
      "[list([1, 2, 1, 2]) list([3, 4, 3, 4]) list([5, 6, 7, 5, 6, 7])]\n"
     ]
    }
   ],
   "source": [
    "\n",
    "badmatrix = np.array([[1, 2], [3, 4], [5, 6, 7]]) # Define a matrix. Note the third row contains 3 elements\n",
    "print(badmatrix) # Print the malformed matrix\n",
    "print(badmatrix * 2) # It is supposed to scale the whole matrix"
   ]
  },
  {
   "cell_type": "code",
   "execution_count": 11,
   "metadata": {},
   "outputs": [
    {
     "name": "stdout",
     "output_type": "stream",
     "text": [
      "[[ 1  4]\n",
      " [ 9 16]]\n"
     ]
    }
   ],
   "source": [
    "result = okmatrix * okmatrix # Multiply each element by itself\n",
    "print(result)"
   ]
  },
  {
   "cell_type": "code",
   "execution_count": 12,
   "metadata": {},
   "outputs": [
    {
     "name": "stdout",
     "output_type": "stream",
     "text": [
      "5.477225575051661\n",
      "5.477225575051661\n"
     ]
    }
   ],
   "source": [
    "nparray1 = np.array([1, 2, 3, 4]) # Define an array\n",
    "norm1 = np.linalg.norm(nparray1)\n",
    "\n",
    "nparray2 = np.array([[1, 2], [3, 4]]) # Define a 2 x 2 matrix. Note the 2 level of square brackets\n",
    "norm2 = np.linalg.norm(nparray2) \n",
    "\n",
    "print(norm1)\n",
    "print(norm2)"
   ]
  },
  {
   "cell_type": "code",
   "execution_count": 13,
   "metadata": {},
   "outputs": [
    {
     "name": "stdout",
     "output_type": "stream",
     "text": [
      "[3.74165739 3.74165739]\n",
      "[1.41421356 2.82842712 4.24264069]\n"
     ]
    }
   ],
   "source": [
    "nparray2 = np.array([[1, 1], [2, 2], [3, 3]]) # Define a 3 x 2 matrix. \n",
    "\n",
    "normByCols = np.linalg.norm(nparray2, axis=0) # Get the norm for each column. Returns 2 elements\n",
    "normByRows = np.linalg.norm(nparray2, axis=1) # get the norm for each row. Returns 3 elements\n",
    "\n",
    "print(normByCols)\n",
    "print(normByRows)"
   ]
  },
  {
   "cell_type": "code",
   "execution_count": 15,
   "metadata": {},
   "outputs": [
    {
     "name": "stdout",
     "output_type": "stream",
     "text": [
      "38\n",
      "38\n"
     ]
    }
   ],
   "source": [
    "nparr1 = np.array([0, 1, 2, 3])\n",
    "nparr2 = np.array([4, 5, 6, 7])\n",
    "\n",
    "flavour1 = np.dot(nparr1, nparr2)\n",
    "flavour2 = nparr1 @ nparr2\n",
    "print(flavour1)\n",
    "print(flavour2)"
   ]
  },
  {
   "cell_type": "code",
   "execution_count": 16,
   "metadata": {},
   "outputs": [
    {
     "name": "stdout",
     "output_type": "stream",
     "text": [
      "Original matrix\n",
      "[[1 1]\n",
      " [2 2]\n",
      " [3 3]]\n",
      "Centered by columns matrix\n",
      "[[-1. -1.]\n",
      " [ 0.  0.]\n",
      " [ 1.  1.]]\n",
      "New mean by column\n",
      "[0. 0.]\n"
     ]
    }
   ],
   "source": [
    "nparray2 = np.array([[1, 1], [2, 2], [3, 3]]) # Define a 3 x 2 matrix. \n",
    "\n",
    "nparrayCentered = nparray2 - np.mean(nparray2, axis=0) # Remove the mean for each column\n",
    "\n",
    "print('Original matrix')\n",
    "print(nparray2)\n",
    "print('Centered by columns matrix')\n",
    "print(nparrayCentered)\n",
    "\n",
    "print('New mean by column')\n",
    "print(nparrayCentered.mean(axis=0))\n"
   ]
  },
  {
   "cell_type": "code",
   "execution_count": null,
   "metadata": {},
   "outputs": [],
   "source": []
  }
 ],
 "metadata": {
  "kernelspec": {
   "display_name": "Python 3",
   "language": "python",
   "name": "python3"
  },
  "language_info": {
   "codemirror_mode": {
    "name": "ipython",
    "version": 3
   },
   "file_extension": ".py",
   "mimetype": "text/x-python",
   "name": "python",
   "nbconvert_exporter": "python",
   "pygments_lexer": "ipython3",
   "version": "3.8.3"
  }
 },
 "nbformat": 4,
 "nbformat_minor": 4
}
